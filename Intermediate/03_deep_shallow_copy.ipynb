{
 "cells": [
  {
   "cell_type": "markdown",
   "metadata": {},
   "source": [
    "# 두 object 비교\n",
    "\n",
    "* `v1 == v2` : 변수 v1과 v2가 reference하는 object의 내용이 같은가?\n",
    "* `v1 is v2` : 변수 v1과 v2가 reference하는 object는 동일 object인가?"
   ]
  },
  {
   "cell_type": "code",
   "execution_count": 1,
   "metadata": {},
   "outputs": [
    {
     "name": "stdout",
     "output_type": "stream",
     "text": [
      "True\n",
      "False\n"
     ]
    }
   ],
   "source": [
    "r1 = [1, 2, 3]\n",
    "r2 = [1, 2, 3]\n",
    "\n",
    "print(r1 == r2)\n",
    "print(r1 is r2)"
   ]
  },
  {
   "cell_type": "code",
   "execution_count": 3,
   "metadata": {},
   "outputs": [
    {
     "name": "stdout",
     "output_type": "stream",
     "text": [
      "True\n"
     ]
    }
   ],
   "source": [
    "r1 = [1, 2, 3]\n",
    "r2 = r1 # r1이 참조하는 list를 r2도 참조\n",
    "\n",
    "print(r1 is r2)"
   ]
  },
  {
   "cell_type": "code",
   "execution_count": 4,
   "metadata": {},
   "outputs": [
    {
     "name": "stdout",
     "output_type": "stream",
     "text": [
      "False\n",
      "True\n",
      "True\n",
      "True\n"
     ]
    }
   ],
   "source": [
    "r1 = ['John', ('man', 'USA'), [175, 23]]\n",
    "r2 = list(r1) # r1이 내용으로 새로운 list 생성\n",
    "\n",
    "print(r1 is r2) # r1와 r2이 reference하는 object는 다른 object\n",
    "\n",
    "print(r1[0] is r2[0]) # r1과 r2의 'John'은 같은 object\n",
    "\n",
    "print(r1[1] is r2[1]) # r1과 r2의 ('man', 'USA')는 같은 object\n",
    "\n",
    "print(r1[2] is r2[2]) # r1과 r2의 [175, 23]은 같은 object\n",
    "\n",
    "'''\n",
    "r1 = ['John', ('man', 'USA'), [175, 23]]\n",
    "\n",
    "위와 같은 list를 생성하면 list 안에 선언되는 값들이 list에 들어가 있는 형태가 아니라 \n",
    "각 object들을 list 내에서 참조하는 형태가 된다.\n",
    "\n",
    "\n",
    "\n",
    "'''"
   ]
  },
  {
   "cell_type": "code",
   "execution_count": null,
   "metadata": {},
   "outputs": [],
   "source": []
  }
 ],
 "metadata": {
  "kernelspec": {
   "display_name": "base",
   "language": "python",
   "name": "python3"
  },
  "language_info": {
   "codemirror_mode": {
    "name": "ipython",
    "version": 3
   },
   "file_extension": ".py",
   "mimetype": "text/x-python",
   "name": "python",
   "nbconvert_exporter": "python",
   "pygments_lexer": "ipython3",
   "version": "3.11.5"
  }
 },
 "nbformat": 4,
 "nbformat_minor": 2
}
