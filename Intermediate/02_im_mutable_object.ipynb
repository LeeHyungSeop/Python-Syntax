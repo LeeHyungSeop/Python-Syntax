{
 "cells": [
  {
   "cell_type": "markdown",
   "metadata": {},
   "source": [
    "# immutable & mutable\n",
    "\n",
    "* `immutable object` : object에 저장된 값의 수정이 불가능\n",
    "  * tuple, string, int, float, bool\n",
    "* `mutable object` : object에 저장된 값의 수정이 가가능\n",
    "  * list, dict, set"
   ]
  },
  {
   "cell_type": "code",
   "execution_count": 2,
   "metadata": {},
   "outputs": [
    {
     "name": "stdout",
     "output_type": "stream",
     "text": [
      "140014528090176\n",
      "[1, 2, 3, 4]\n",
      "140014528090176\n"
     ]
    }
   ],
   "source": [
    "r = [1, 2]\n",
    "print(id(r))\n",
    "\n",
    "r += [3, 4]\n",
    "print(r)\n",
    "print(id(r)) # id of r is the same as before"
   ]
  },
  {
   "cell_type": "code",
   "execution_count": 3,
   "metadata": {},
   "outputs": [
    {
     "name": "stdout",
     "output_type": "stream",
     "text": [
      "140014537242048\n",
      "(1, 2, 3, 4)\n",
      "140014528105984\n"
     ]
    }
   ],
   "source": [
    "t = (1, 2)\n",
    "print(id(t))\n",
    "\n",
    "t += (3, 4)\n",
    "print(t)\n",
    "print(id(t)) # id of t is different from before"
   ]
  },
  {
   "cell_type": "markdown",
   "metadata": {},
   "source": [
    "# same function, different result by mutable & immutable\n",
    "\n",
    "* **함수를 잘 정의하려면 python 내에서 참조하거나 조작하는 object의 type(성격)을 구분하고 그에 맞게 함수를 정의해야 한다.**\n",
    "* 따라서 기본적으로 string, tuple은 immutable object이고 list, dict은 mutable object라는 것을 기억해야 함."
   ]
  },
  {
   "cell_type": "code",
   "execution_count": 11,
   "metadata": {},
   "outputs": [
    {
     "name": "stdout",
     "output_type": "stream",
     "text": [
      "[1, 2, 3, 4]\n",
      "(1, 3)\n"
     ]
    },
    {
     "data": {
      "text/plain": [
       "'\\nimmutable case :\\n    add_last(t, (5, 7))\\n        m = t\\n        n = (5, 7)\\n    m += n \\n        m = (1, 3, 5, 7)\\n        t = (1, 3)\\n        \\n    m and t are different objects   \\n'"
      ]
     },
     "execution_count": 11,
     "metadata": {},
     "output_type": "execute_result"
    }
   ],
   "source": [
    "def add_last(m, n) :\n",
    "    m += n\n",
    "    \n",
    "\n",
    "r = [1, 2]\n",
    "add_last(r, [3, 4])\n",
    "print(r)\n",
    "'''\n",
    "mutable case :\n",
    "    add_last(r, [3, 4])\n",
    "        m = r\n",
    "        n = [3, 4]\n",
    "    m += n \n",
    "        m = [1, 2, 3, 4]\n",
    "        r = [1, 2, 3, 4]\n",
    "        \n",
    "    m and r are the same object\n",
    "\n",
    "'''\n",
    "\n",
    "t = (1, 3)\n",
    "add_last(t, (5, 7))\n",
    "print(t)\n",
    "'''\n",
    "immutable case :\n",
    "    add_last(t, (5, 7))\n",
    "        m = t\n",
    "        n = (5, 7)\n",
    "    m += n \n",
    "        m = (1, 3, 5, 7)\n",
    "        t = (1, 3)\n",
    "        \n",
    "    m and t are different objects   \n",
    "'''"
   ]
  },
  {
   "cell_type": "markdown",
   "metadata": {},
   "source": [
    "## solution"
   ]
  },
  {
   "cell_type": "code",
   "execution_count": 12,
   "metadata": {},
   "outputs": [
    {
     "name": "stdout",
     "output_type": "stream",
     "text": [
      "(1, 3, 5, 7)\n"
     ]
    },
    {
     "data": {
      "text/plain": [
       "'\\nimmutable case :\\n    add_last_tuple(t, (5, 7))\\n        m = t\\n        n = (5, 7)\\n    m = m + n\\n        m = (1, 3, 5, 7)\\n        t = (1, 3)\\n    return m\\n    t = (1, 3, 5, 7)\\n'"
      ]
     },
     "execution_count": 12,
     "metadata": {},
     "output_type": "execute_result"
    }
   ],
   "source": [
    "def add_last_tuple(m, n) :\n",
    "    m += n\n",
    "    return m\n",
    "\n",
    "t = (1, 3)\n",
    "t = add_last_tuple(t, (5, 7))\n",
    "print(t)\n",
    "'''\n",
    "immutable case :\n",
    "    add_last_tuple(t, (5, 7))\n",
    "        m = t\n",
    "        n = (5, 7)\n",
    "    m = m + n\n",
    "        m = (1, 3, 5, 7)\n",
    "        t = (1, 3)\n",
    "    return m\n",
    "    t = (1, 3, 5, 7)\n",
    "'''"
   ]
  },
  {
   "cell_type": "markdown",
   "metadata": {},
   "source": [
    "# same function, different result by mutable & immutable"
   ]
  },
  {
   "cell_type": "code",
   "execution_count": 17,
   "metadata": {},
   "outputs": [
    {
     "name": "stdout",
     "output_type": "stream",
     "text": [
      "1, 5\n",
      "[1, 3, 4, 5]\n"
     ]
    }
   ],
   "source": [
    "def min_max(d) :\n",
    "    d.sort()\n",
    "    print(d[0], d[-1], sep=', ')\n",
    "    \n",
    "l = [3, 1, 5, 4]\n",
    "min_max(l)\n",
    "\n",
    "print(l) # original list is changed"
   ]
  },
  {
   "cell_type": "code",
   "execution_count": 19,
   "metadata": {},
   "outputs": [
    {
     "name": "stdout",
     "output_type": "stream",
     "text": [
      "1, 5\n",
      "[3, 1, 5, 4]\n"
     ]
    }
   ],
   "source": [
    "# but we want to keep the original list unchanged\n",
    "def min_max2(d) :\n",
    "    d = list(d) # d is a new object\n",
    "    d.sort()    # sort the new object, not the original one\n",
    "    print(d[0], d[-1], sep=', ')\n",
    "    \n",
    "l = [3, 1, 5, 4]\n",
    "min_max2(l)\n",
    "\n",
    "print(l) # original list is unchanged"
   ]
  },
  {
   "cell_type": "code",
   "execution_count": 21,
   "metadata": {},
   "outputs": [
    {
     "name": "stdout",
     "output_type": "stream",
     "text": [
      "1, 5\n",
      "(3, 1, 5, 4)\n"
     ]
    }
   ],
   "source": [
    "# it works for tuple as well\n",
    "t = (3, 1, 5, 4)\n",
    "min_max2(t)\n",
    "\n",
    "print(t)"
   ]
  },
  {
   "cell_type": "code",
   "execution_count": null,
   "metadata": {},
   "outputs": [],
   "source": []
  }
 ],
 "metadata": {
  "kernelspec": {
   "display_name": "base",
   "language": "python",
   "name": "python3"
  },
  "language_info": {
   "codemirror_mode": {
    "name": "ipython",
    "version": 3
   },
   "file_extension": ".py",
   "mimetype": "text/x-python",
   "name": "python",
   "nbconvert_exporter": "python",
   "pygments_lexer": "ipython3",
   "version": "3.11.5"
  }
 },
 "nbformat": 4,
 "nbformat_minor": 2
}
